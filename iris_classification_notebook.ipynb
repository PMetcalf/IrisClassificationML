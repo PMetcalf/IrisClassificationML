{
 "nbformat": 4,
 "nbformat_minor": 2,
 "metadata": {
  "language_info": {
   "name": "python",
   "codemirror_mode": {
    "name": "ipython",
    "version": 3
   },
   "version": "3.6.6-final"
  },
  "orig_nbformat": 2,
  "file_extension": ".py",
  "mimetype": "text/x-python",
  "name": "python",
  "npconvert_exporter": "python",
  "pygments_lexer": "ipython3",
  "version": 3,
  "kernelspec": {
   "name": "python36664bitd546b3131dc04b45b27adb02c244c21c",
   "display_name": "Python 3.6.6 64-bit"
  }
 },
 "cells": [
  {
   "cell_type": "code",
   "execution_count": 36,
   "metadata": {},
   "outputs": [
    {
     "name": "stdout",
     "output_type": "stream",
     "text": "Requirement already satisfied: matplotlib in c:\\developer\\python\\python366\\lib\\site-packages (3.1.2)\nRequirement already satisfied: kiwisolver>=1.0.1 in c:\\developer\\python\\python366\\lib\\site-packages (from matplotlib) (1.1.0)\nRequirement already satisfied: cycler>=0.10 in c:\\developer\\python\\python366\\lib\\site-packages (from matplotlib) (0.10.0)\nRequirement already satisfied: numpy>=1.11 in c:\\developer\\python\\python366\\lib\\site-packages (from matplotlib) (1.17.4)\nRequirement already satisfied: python-dateutil>=2.1 in c:\\developer\\python\\python366\\lib\\site-packages (from matplotlib) (2.8.1)\nRequirement already satisfied: pyparsing!=2.0.4,!=2.1.2,!=2.1.6,>=2.0.1 in c:\\developer\\python\\python366\\lib\\site-packages (from matplotlib) (2.4.6)\nRequirement already satisfied: setuptools in c:\\developer\\python\\python366\\lib\\site-packages (from kiwisolver>=1.0.1->matplotlib) (41.6.0)\nRequirement already satisfied: six in c:\\users\\asus-pc\\appdata\\roaming\\python\\python36\\site-packages (from cycler>=0.10->matplotlib) (1.13.0)\nRequirement already satisfied: numpy in c:\\developer\\python\\python366\\lib\\site-packages (1.17.4)\nRequirement already satisfied: pandas in c:\\developer\\python\\python366\\lib\\site-packages (0.25.3)\nRequirement already satisfied: numpy>=1.13.3 in c:\\developer\\python\\python366\\lib\\site-packages (from pandas) (1.17.4)\nRequirement already satisfied: python-dateutil>=2.6.1 in c:\\developer\\python\\python366\\lib\\site-packages (from pandas) (2.8.1)\nRequirement already satisfied: pytz>=2017.2 in c:\\developer\\python\\python366\\lib\\site-packages (from pandas) (2019.3)\nRequirement already satisfied: six>=1.5 in c:\\users\\asus-pc\\appdata\\roaming\\python\\python36\\site-packages (from python-dateutil>=2.6.1->pandas) (1.13.0)\nRequirement already satisfied: scipy in c:\\developer\\python\\python366\\lib\\site-packages (1.3.2)\nRequirement already satisfied: numpy>=1.13.3 in c:\\developer\\python\\python366\\lib\\site-packages (from scipy) (1.17.4)\nRequirement already satisfied: sklearn in c:\\developer\\python\\python366\\lib\\site-packages (0.0)\nRequirement already satisfied: scikit-learn in c:\\developer\\python\\python366\\lib\\site-packages (from sklearn) (0.21.3)\nRequirement already satisfied: scipy>=0.17.0 in c:\\developer\\python\\python366\\lib\\site-packages (from scikit-learn->sklearn) (1.3.2)\nRequirement already satisfied: numpy>=1.11.0 in c:\\developer\\python\\python366\\lib\\site-packages (from scikit-learn->sklearn) (1.17.4)\nRequirement already satisfied: joblib>=0.11 in c:\\developer\\python\\python366\\lib\\site-packages (from scikit-learn->sklearn) (0.14.0)\n"
    }
   ],
   "source": [
    "# Install required packages, if required\n",
    "import sys\n",
    "!{sys.executable} -m pip install matplotlib\n",
    "!{sys.executable} -m pip install numpy\n",
    "!{sys.executable} -m pip install pandas\n",
    "!{sys.executable} -m pip install scipy\n",
    "!{sys.executable} -m pip install sklearn"
   ]
  },
  {
   "cell_type": "code",
   "execution_count": 37,
   "metadata": {},
   "outputs": [
    {
     "name": "stdout",
     "output_type": "stream",
     "text": "Python: 3.6.6 (v3.6.6:4cf1f54eb7, Jun 27 2018, 03:37:03) [MSC v.1900 64 bit (AMD64)]\nmatplotliv: 3.1.2\nnumpy: 1.17.4\npandas: 0.25.3\nscipy: 1.3.2\nsklearn: 0.21.3\n"
    }
   ],
   "source": [
    "# Import libraries; Check Status & Version\n",
    "\n",
    "print('Python: {}'.format(sys.version))\n",
    "\n",
    "import matplotlib\n",
    "print('matplotliv: {}'.format(matplotlib.__version__))\n",
    "\n",
    "import numpy\n",
    "print('numpy: {}'.format(numpy.__version__))\n",
    "\n",
    "import pandas\n",
    "print('pandas: {}'.format(pandas.__version__))\n",
    "\n",
    "import scipy\n",
    "print('scipy: {}'.format(scipy.__version__))\n",
    "\n",
    "import sklearn\n",
    "print('sklearn: {}'.format(sklearn.__version__))"
   ]
  },
  {
   "cell_type": "code",
   "execution_count": 38,
   "metadata": {},
   "outputs": [],
   "source": [
    "# Import specific modules, functions and objects\n",
    "\n",
    "from matplotlib import pyplot\n",
    "\n",
    "from pandas import read_csv\n",
    "from pandas.plotting import scatter_matrix\n",
    "\n",
    "from sklearn.model_selection import train_test_split\n",
    "from sklearn.model_selection import cross_val_score\n",
    "from sklearn.model_selection import StratifiedKFold\n",
    "from sklearn.metrics import classification_report\n",
    "from sklearn.metrics import confusion_matrix\n",
    "from sklearn.metrics import accuracy_score\n",
    "from sklearn.linear_model import LogisticRegression\n",
    "from sklearn.tree import DecisionTreeClassifier\n",
    "from sklearn.neighbors import KNeighborsClassifier\n",
    "from sklearn.discriminant_analysis import LinearDiscriminantAnalysis\n",
    "from sklearn.naive_bayes import GaussianNB\n",
    "from sklearn.svm import SVC"
   ]
  },
  {
   "cell_type": "code",
   "execution_count": 43,
   "metadata": {},
   "outputs": [],
   "source": [
    "# Load dataset, specifying names of columns during loading\n",
    "dataset_file = 'iris_dataset.csv'\n",
    "\n",
    "column_names = ['sepal-length', 'sepal-width', 'petal-length', 'petal-width', 'class']\n",
    "\n",
    "dataset = read_csv(dataset_file, names = column_names)"
   ]
  },
  {
   "cell_type": "code",
   "execution_count": 44,
   "metadata": {},
   "outputs": [
    {
     "name": "stdout",
     "output_type": "stream",
     "text": "(150, 5)\n   sepal-length  sepal-width  petal-length  petal-width        class\n0           5.1          3.5           1.4          0.2  Iris-setosa\n1           4.9          3.0           1.4          0.2  Iris-setosa\n2           4.7          3.2           1.3          0.2  Iris-setosa\n3           4.6          3.1           1.5          0.2  Iris-setosa\n4           5.0          3.6           1.4          0.2  Iris-setosa\n5           5.4          3.9           1.7          0.4  Iris-setosa\n6           4.6          3.4           1.4          0.3  Iris-setosa\n7           5.0          3.4           1.5          0.2  Iris-setosa\n8           4.4          2.9           1.4          0.2  Iris-setosa\n9           4.9          3.1           1.5          0.1  Iris-setosa\n       sepal-length  sepal-width  petal-length  petal-width\ncount    150.000000   150.000000    150.000000   150.000000\nmean       5.843333     3.054000      3.758667     1.198667\nstd        0.828066     0.433594      1.764420     0.763161\nmin        4.300000     2.000000      1.000000     0.100000\n25%        5.100000     2.800000      1.600000     0.300000\n50%        5.800000     3.000000      4.350000     1.300000\n75%        6.400000     3.300000      5.100000     1.800000\nmax        7.900000     4.400000      6.900000     2.500000\nclass\nIris-setosa        50\nIris-versicolor    50\nIris-virginica     50\ndtype: int64\n"
    }
   ],
   "source": [
    "# Summarise the dataset\n",
    "\n",
    "# Evaluate dataset dimensions\n",
    "print(dataset.shape)\n",
    "\n",
    "# Peek at the data\n",
    "print(dataset.head(10))\n",
    "\n",
    "# Evaluate data statistics\n",
    "print(dataset.describe())\n",
    "\n",
    "# Evaluate class distribution\n",
    "print(dataset.groupby('class').size())"
   ]
  },
  {
   "cell_type": "code",
   "execution_count": null,
   "metadata": {},
   "outputs": [],
   "source": []
  }
 ]
}